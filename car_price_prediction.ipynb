{
  "metadata": {
    "kernelspec": {
      "name": "python3",
      "display_name": "Python 3",
      "language": "python"
    },
    "language_info": {
      "name": "python",
      "version": "3.10.12",
      "mimetype": "text/x-python",
      "codemirror_mode": {
        "name": "ipython",
        "version": 3
      },
      "pygments_lexer": "ipython3",
      "nbconvert_exporter": "python",
      "file_extension": ".py"
    },
    "kaggle": {
      "accelerator": "none",
      "dataSources": [
        {
          "sourceId": 10587923,
          "sourceType": "datasetVersion",
          "datasetId": 6552734
        }
      ],
      "dockerImageVersionId": 30886,
      "isInternetEnabled": true,
      "language": "python",
      "sourceType": "notebook",
      "isGpuEnabled": false
    },
    "colab": {
      "name": "car price prediction",
      "provenance": [],
      "include_colab_link": true
    }
  },
  "nbformat_minor": 0,
  "nbformat": 4,
  "cells": [
    {
      "cell_type": "markdown",
      "metadata": {
        "id": "view-in-github",
        "colab_type": "text"
      },
      "source": [
        "<a href=\"https://colab.research.google.com/github/Guidin007/Project_data/blob/main/car_price_prediction.ipynb\" target=\"_parent\"><img src=\"https://colab.research.google.com/assets/colab-badge.svg\" alt=\"Open In Colab\"/></a>"
      ]
    },
    {
      "source": [
        "# IMPORTANT: RUN THIS CELL IN ORDER TO IMPORT YOUR KAGGLE DATA SOURCES,\n",
        "# THEN FEEL FREE TO DELETE THIS CELL.\n",
        "# NOTE: THIS NOTEBOOK ENVIRONMENT DIFFERS FROM KAGGLE'S PYTHON\n",
        "# ENVIRONMENT SO THERE MAY BE MISSING LIBRARIES USED BY YOUR\n",
        "# NOTEBOOK.\n",
        "import kagglehub\n",
        "asinow_car_price_dataset_path = kagglehub.dataset_download('asinow/car-price-dataset')\n",
        "\n",
        "print('Data source import complete.')\n"
      ],
      "metadata": {
        "id": "45HoihGQSo0b"
      },
      "cell_type": "code",
      "outputs": [],
      "execution_count": null
    },
    {
      "cell_type": "markdown",
      "source": [
        "# Car Price Data Analysis"
      ],
      "metadata": {
        "id": "vhlRk3EQSo0f"
      }
    },
    {
      "cell_type": "code",
      "source": [
        "import pandas as pd\n",
        "import zipfile as zip\n",
        "import subprocess\n",
        "import plotly.express as px\n",
        "import plotly.graph_objects as go\n",
        "import plotly.figure_factory as ff\n",
        "import numpy as np\n",
        "import matplotlib.pyplot as plt\n",
        "\n",
        "kaggle = True"
      ],
      "metadata": {
        "trusted": true,
        "execution": {
          "iopub.status.busy": "2025-03-06T11:31:35.219264Z",
          "iopub.execute_input": "2025-03-06T11:31:35.219617Z",
          "iopub.status.idle": "2025-03-06T11:31:35.224654Z",
          "shell.execute_reply.started": "2025-03-06T11:31:35.219593Z",
          "shell.execute_reply": "2025-03-06T11:31:35.223531Z"
        },
        "id": "itaLzym4So0h"
      },
      "outputs": [],
      "execution_count": null
    },
    {
      "cell_type": "code",
      "source": [
        "\n",
        "def get_kaggle_dataset(dataset):\n",
        "    \"\"\"\n",
        "    Downloads a dataset from Kaggle using the Kaggle API.\n",
        "\n",
        "    This function executes the `kaggle datasets download` command to fetch\n",
        "    the specified dataset from Kaggle. It handles errors gracefully and\n",
        "    prints relevant messages based on the download status.\n",
        "\n",
        "    unzio the compress file into data folder in the project folder\n",
        "\n",
        "    Args:\n",
        "        dataset (str): The Kaggle dataset identifier in the format\n",
        "                      \"owner/dataset-name\" (e.g., \"asinow/car-price-dataset\").\n",
        "\n",
        "    Raises:\n",
        "        subprocess.CalledProcessError: If the command execution fails,\n",
        "                                       an error message is displayed.\n",
        "\n",
        "    Example:\n",
        "        get_kaggle_dataset(\"asinow/car-price-dataset\")\n",
        "    \"\"\"\n",
        "    try:\n",
        "        # execute the kaggle commando\n",
        "        result = subprocess.run(\n",
        "            [\"kaggle\", \"datasets\", \"download\", \"-d\", dataset],\n",
        "            check=True,\n",
        "            capture_output=True,\n",
        "            text=True\n",
        "        )\n",
        "        print(\"✅ Dataset donwloaded with succesfully!\")\n",
        "        print(result.stdout)\n",
        "        print(\"Uncompress data file in data folder\")\n",
        "\n",
        "        #unzio file\n",
        "        with zip.ZipFile(dataset.split('/')[-1]+\".zip\", 'r') as zip_ref:\n",
        "            zip_ref.extractall(\"data\")\n",
        "\n",
        "    except subprocess.CalledProcessError as e:\n",
        "        print(\"❌ Error descargando dataset ->\", e.stderr)\n"
      ],
      "metadata": {
        "trusted": true,
        "execution": {
          "iopub.status.busy": "2025-03-06T11:02:19.793931Z",
          "iopub.execute_input": "2025-03-06T11:02:19.794272Z",
          "iopub.status.idle": "2025-03-06T11:02:19.800704Z",
          "shell.execute_reply.started": "2025-03-06T11:02:19.794246Z",
          "shell.execute_reply": "2025-03-06T11:02:19.799571Z"
        },
        "id": "2gdGO-UiSo0i"
      },
      "outputs": [],
      "execution_count": null
    },
    {
      "cell_type": "markdown",
      "source": [
        "# Download and read kaggle dataset"
      ],
      "metadata": {
        "id": "Cm4RJgUESo0l"
      }
    },
    {
      "cell_type": "code",
      "source": [
        "# Llamada a la función con el dataset de ejemplo\n",
        "if kaggle:\n",
        "    path = '/kaggle/input/car-price-dataset/car_price_dataset.csv'\n",
        "else:\n",
        "    import kaggle as kg\n",
        "    path = './data/car_price_dataset.csv'\n",
        "    get_kaggle_dataset(\"asinow/car-price-dataset\")\n",
        "\n",
        "df_data = pd.read_csv(path, sep=',')"
      ],
      "metadata": {
        "trusted": true,
        "execution": {
          "iopub.status.busy": "2025-03-06T11:02:31.299534Z",
          "iopub.execute_input": "2025-03-06T11:02:31.299935Z",
          "iopub.status.idle": "2025-03-06T11:02:31.355556Z",
          "shell.execute_reply.started": "2025-03-06T11:02:31.2999Z",
          "shell.execute_reply": "2025-03-06T11:02:31.354638Z"
        },
        "id": "UI1FWkqFSo0l"
      },
      "outputs": [],
      "execution_count": null
    },
    {
      "cell_type": "code",
      "source": [
        "df_data"
      ],
      "metadata": {
        "trusted": true,
        "execution": {
          "iopub.status.busy": "2025-03-06T11:02:41.345089Z",
          "iopub.execute_input": "2025-03-06T11:02:41.345432Z",
          "iopub.status.idle": "2025-03-06T11:02:41.385784Z",
          "shell.execute_reply.started": "2025-03-06T11:02:41.345407Z",
          "shell.execute_reply": "2025-03-06T11:02:41.384708Z"
        },
        "id": "y6Eh_jNDSo0m"
      },
      "outputs": [],
      "execution_count": null
    },
    {
      "cell_type": "code",
      "source": [
        "df_data.info()"
      ],
      "metadata": {
        "trusted": true,
        "execution": {
          "iopub.status.busy": "2025-03-06T11:02:51.450705Z",
          "iopub.execute_input": "2025-03-06T11:02:51.451117Z",
          "iopub.status.idle": "2025-03-06T11:02:51.480442Z",
          "shell.execute_reply.started": "2025-03-06T11:02:51.451086Z",
          "shell.execute_reply": "2025-03-06T11:02:51.479403Z"
        },
        "id": "vFxOZ3QiSo0n"
      },
      "outputs": [],
      "execution_count": null
    },
    {
      "cell_type": "code",
      "source": [
        "df_data.describe()"
      ],
      "metadata": {
        "trusted": true,
        "execution": {
          "iopub.status.busy": "2025-03-06T11:04:02.090665Z",
          "iopub.execute_input": "2025-03-06T11:04:02.0911Z",
          "iopub.status.idle": "2025-03-06T11:04:02.121353Z",
          "shell.execute_reply.started": "2025-03-06T11:04:02.091069Z",
          "shell.execute_reply": "2025-03-06T11:04:02.120353Z"
        },
        "id": "DCjSCE8dSo0o"
      },
      "outputs": [],
      "execution_count": null
    },
    {
      "cell_type": "code",
      "source": [
        "df_data.isna().count()"
      ],
      "metadata": {
        "trusted": true,
        "execution": {
          "iopub.status.busy": "2025-03-06T11:07:25.880576Z",
          "iopub.execute_input": "2025-03-06T11:07:25.880995Z",
          "iopub.status.idle": "2025-03-06T11:07:25.892296Z",
          "shell.execute_reply.started": "2025-03-06T11:07:25.880966Z",
          "shell.execute_reply": "2025-03-06T11:07:25.891455Z"
        },
        "id": "jkESOa4jSo0o"
      },
      "outputs": [],
      "execution_count": null
    },
    {
      "cell_type": "code",
      "source": [
        "#It’s important to know the brand, model, mileage, and whether the price is high, similar to the top models of that brand.\n",
        "brand_counts = df_data[['Brand', 'Model', 'Mileage', 'Price']].value_counts()\n",
        "brand_counts = brand_counts.sort_values(ascending=False)\n",
        "print(brand_counts)\n"
      ],
      "metadata": {
        "trusted": true,
        "execution": {
          "iopub.status.busy": "2025-03-06T11:15:56.830499Z",
          "iopub.execute_input": "2025-03-06T11:15:56.830924Z",
          "iopub.status.idle": "2025-03-06T11:15:56.857376Z",
          "shell.execute_reply.started": "2025-03-06T11:15:56.830892Z",
          "shell.execute_reply": "2025-03-06T11:15:56.85629Z"
        },
        "id": "B9QdgRIfSo0p"
      },
      "outputs": [],
      "execution_count": null
    },
    {
      "cell_type": "code",
      "source": [
        "# Group by brand and calculate the average price\n",
        "top_brands = df_data.groupby('Brand') ['Price'].mean().sort_values(ascending=False)\n",
        "\n",
        "# Seleccionar el top 10\n",
        "top_10_brands = top_brands.head(10)\n",
        "\n",
        "# Mostrar resultados\n",
        "print(top_10_brands)"
      ],
      "metadata": {
        "trusted": true,
        "execution": {
          "iopub.status.busy": "2025-03-06T11:19:00.095055Z",
          "iopub.execute_input": "2025-03-06T11:19:00.095504Z",
          "iopub.status.idle": "2025-03-06T11:19:00.107612Z",
          "shell.execute_reply.started": "2025-03-06T11:19:00.095474Z",
          "shell.execute_reply": "2025-03-06T11:19:00.10629Z"
        },
        "id": "pKQIodVpSo0q"
      },
      "outputs": [],
      "execution_count": null
    },
    {
      "cell_type": "code",
      "source": [
        "# Group by Brand and Model calculate the max price\n",
        "top_brands = df_data.groupby(['Brand' ,'Model', 'Transmission']) ['Price'].max().sort_values(ascending=False)\n",
        "\n",
        "# Seleccionar el top 10\n",
        "top_10_brands = top_brands.head(10)\n",
        "\n",
        "# Mostrar resultados\n",
        "print(top_10_brands)"
      ],
      "metadata": {
        "trusted": true,
        "execution": {
          "iopub.status.busy": "2025-03-06T11:27:12.643363Z",
          "iopub.execute_input": "2025-03-06T11:27:12.643707Z",
          "iopub.status.idle": "2025-03-06T11:27:12.65582Z",
          "shell.execute_reply.started": "2025-03-06T11:27:12.643681Z",
          "shell.execute_reply": "2025-03-06T11:27:12.654765Z"
        },
        "id": "QzddcEh7So0r"
      },
      "outputs": [],
      "execution_count": null
    },
    {
      "cell_type": "code",
      "source": [
        "# Create the pie chart\n",
        "plt.figure(figsize=(8, 8))  # Adjust the size of the chart\n",
        "top_10_brands.plot.pie(autopct='%1.1f%%', startangle=90, cmap='tab10')\n",
        "\n",
        "# Set title and remove the y-axis label\n",
        "plt.title(\"Top 10 Brands and Models with Higher Price\")\n",
        "plt.ylabel('')  # Hides the Y-axis label\n",
        "\n",
        "# Show grafic pie chart\n",
        "plt.show()"
      ],
      "metadata": {
        "trusted": true,
        "execution": {
          "iopub.status.busy": "2025-03-06T11:42:40.983873Z",
          "iopub.execute_input": "2025-03-06T11:42:40.984239Z",
          "iopub.status.idle": "2025-03-06T11:42:41.304449Z",
          "shell.execute_reply.started": "2025-03-06T11:42:40.984213Z",
          "shell.execute_reply": "2025-03-06T11:42:41.303417Z"
        },
        "id": "NI6HfU6wSo0r"
      },
      "outputs": [],
      "execution_count": null
    },
    {
      "cell_type": "markdown",
      "source": [
        "# Analysis of pie chart graphs\n",
        "The dataset you provided shows the maximum price of certain car models from different brands with automatic transmission. Here are some key insights:\n",
        "\n",
        "## 1️⃣ Price Analysis\n",
        "Toyota Corolla has the highest price (18,301) among the listed models.\n",
        "Audi A3 and Ford Explorer have very similar prices, which suggests that both luxury sedans (Audi) and SUVs (Ford) can have comparable values.\n",
        "BMW 5 Series (17,386) and Mercedes C-Class (17,614) are among the lowest in this list, which is interesting because they are premium brands. This could indicate that the listed versions have less equipment or are older models.\n",
        "\n",
        "## 2️⃣ Comparison Between Car Segments\n",
        "Luxury vs. Mainstream Brands:\n",
        "\n",
        "Audi, Mercedes, and BMW are included, but they don’t dominate the highest prices.\n",
        "Mainstream brands like Toyota, Honda, and Ford also have high-priced models.\n",
        "Sedans vs. SUVs:\n",
        "\n",
        "Sedans: Corolla, A3, Accord, Elantra, Malibu, C-Class, 5 Series.\n",
        "SUVs: CR-V, Explorer.\n",
        "INTERESTING FACT: Sedans dominate this list, suggesting that SUVs are not among the most expensive in this case.\n",
        "\n",
        "## 3️⃣ Differences Between Brands\n",
        "Toyota has the most expensive model on the list (Corolla), which might be due to a hybrid or a highly equipped version.\n",
        "Honda has two models in the ranking (Accord and CR-V), indicating that it competes in multiple segments with relatively high prices.\n",
        "Audi and Mercedes are present, showing that premium cars appear on the list but don’t necessarily dominate the top spots.\n",
        "\n",
        "## 4️⃣ Questions for Deeper Analysis\n",
        "🔹 What model years are these cars? Prices can vary significantly based on the year and version.\n",
        "🔹 Are these market prices for new or used cars? If they are used cars, we could analyze depreciation.\n",
        "🔹 How do these prices compare to manual or hybrid versions?\n",
        "\n",
        "\n"
      ],
      "metadata": {
        "id": "XcG3a48qSo0r"
      }
    },
    {
      "cell_type": "markdown",
      "source": [
        "# Reponse the last quiestion point 4"
      ],
      "metadata": {
        "id": "hcSL9s8VXNyF"
      }
    },
    {
      "cell_type": "code",
      "source": [
        " # What model years are these cars?\n",
        "# Group by Brand and Model calculate the max price\n",
        "top_brands = df_data.groupby(['Brand' ,'Model', 'Year']) ['Price'].max().sort_values(ascending=False)\n",
        "\n",
        "# Select the top 10\n",
        "Year_brands = top_brands.head(10)\n",
        "\n",
        "# Show result\n",
        "print(Year_brands)"
      ],
      "metadata": {
        "trusted": true,
        "id": "P0GZc7YySo0s"
      },
      "outputs": [],
      "execution_count": null
    },
    {
      "cell_type": "markdown",
      "source": [
        "##Are these market prices for new or used cars?\n",
        "###Response: The last result shows that the cars are from different years. My conclusion is that they are secondhand or not new, If they are used cars, we could analyze depreciation."
      ],
      "metadata": {
        "id": "2TsdMrFbXVsL"
      }
    },
    {
      "cell_type": "code",
      "source": [
        "# How do these prices compare to manual or hybrid versions?\n",
        "# Group by Brand, Model, Transmission calculate the max price\n",
        "top_brands = df_data.groupby(['Brand' ,'Model', 'Transmission']) ['Price'].max().sort_values(ascending=False)\n",
        "\n",
        "# Select the top 10\n",
        "Transmission_brands = top_brands.head(20)\n",
        "\n",
        "# Show result\n",
        "print(Transmission_brands)"
      ],
      "metadata": {
        "id": "qYoD_3h_XSFr"
      },
      "execution_count": null,
      "outputs": []
    },
    {
      "cell_type": "markdown",
      "source": [
        "# EDA Cars"
      ],
      "metadata": {
        "id": "rFhmfSsmSo0s"
      }
    },
    {
      "cell_type": "code",
      "source": [
        "df_corr = df_data[['Year',\n",
        "                   'Engine_Size',\n",
        "                   'Mileage',\n",
        "                   'Doors',\n",
        "                   'Owner_Count',\n",
        "                   'Price']].corr(method='pearson')\n",
        "\n",
        "fig = go.Figure(go.Heatmap(x = df_corr.columns,\n",
        "                           y = df_corr.columns,\n",
        "                           z = df_corr.values.tolist(),\n",
        "                           colorscale = 'rdbu',\n",
        "                           zmin = -1,\n",
        "                           zmax = 1))\n",
        "\n",
        "fig.update_layout(width = 800,\n",
        "                  height = 700)\n",
        "\n",
        "if kaggle:\n",
        "    fig.show(renderer='iframe_connected')\n",
        "else:\n",
        "    fig.show()"
      ],
      "metadata": {
        "trusted": true,
        "execution": {
          "iopub.status.busy": "2025-03-06T11:07:53.086122Z",
          "iopub.execute_input": "2025-03-06T11:07:53.086472Z",
          "iopub.status.idle": "2025-03-06T11:07:53.417866Z",
          "shell.execute_reply.started": "2025-03-06T11:07:53.086447Z",
          "shell.execute_reply": "2025-03-06T11:07:53.41686Z"
        },
        "id": "2_XyxBImSo0t"
      },
      "outputs": [],
      "execution_count": null
    },
    {
      "cell_type": "code",
      "source": [
        "# Knowing what is the top Brand Grafic"
      ],
      "metadata": {
        "trusted": true,
        "id": "3hdXbrKaSo0t"
      },
      "outputs": [],
      "execution_count": null
    },
    {
      "cell_type": "code",
      "source": [
        "from sklearn.model_selection import train_test_split\n",
        "from sklearn.preprocessing import LabelEncoder\n",
        "\n",
        "# Seleccionar características (X) y variable objetivo (y)\n",
        "X = df_data.drop(columns=[\"Price\"])  # Variables predictoras\n",
        "y = df_data[\"Price\"]  # Variable objetivo\n",
        "\n",
        "# Identificar columnas categóricas\n",
        "categorical_cols = X.select_dtypes(include=[\"object\"]).columns\n",
        "\n",
        "# Convertir variables categóricas a numéricas usando Label Encoding\n",
        "label_encoders = {}\n",
        "for col in categorical_cols:\n",
        "    le = LabelEncoder()\n",
        "    X[col] = le.fit_transform(X[col])\n",
        "    label_encoders[col] = le  # Guardamos el encoder por si lo necesitamos después\n",
        "\n",
        "# Dividir en conjunto de entrenamiento (80%) y prueba (20%)\n",
        "X_train, X_test, y_train, y_test = train_test_split(X, y, test_size=0.2, random_state=42)\n",
        "\n",
        "# Mostrar tamaño de los conjuntos\n",
        "X_train.shape, X_test.shape\n"
      ],
      "metadata": {
        "trusted": true,
        "execution": {
          "iopub.status.busy": "2025-02-14T02:18:41.411106Z",
          "iopub.execute_input": "2025-02-14T02:18:41.411442Z",
          "iopub.status.idle": "2025-02-14T02:18:41.69639Z",
          "shell.execute_reply.started": "2025-02-14T02:18:41.411417Z",
          "shell.execute_reply": "2025-02-14T02:18:41.695511Z"
        },
        "id": "iPQO1WjOSo0t"
      },
      "outputs": [],
      "execution_count": null
    },
    {
      "cell_type": "code",
      "source": [
        "X"
      ],
      "metadata": {
        "trusted": true,
        "execution": {
          "iopub.status.busy": "2025-02-14T02:18:41.697363Z",
          "iopub.execute_input": "2025-02-14T02:18:41.697742Z",
          "iopub.status.idle": "2025-02-14T02:18:41.711174Z",
          "shell.execute_reply.started": "2025-02-14T02:18:41.69771Z",
          "shell.execute_reply": "2025-02-14T02:18:41.710044Z"
        },
        "id": "N4dPQuWdSo0u"
      },
      "outputs": [],
      "execution_count": null
    },
    {
      "cell_type": "code",
      "source": [
        "from sklearn.linear_model import LinearRegression\n",
        "from sklearn.metrics import mean_absolute_error, mean_squared_error, r2_score\n",
        "\n",
        "# Inicializar el modelo de regresión lineal\n",
        "model = LinearRegression()\n",
        "\n",
        "# Entrenar el modelo con los datos de entrenamiento\n",
        "model.fit(X_train, y_train)\n",
        "\n",
        "# Hacer predicciones en el conjunto de prueba\n",
        "y_pred = model.predict(X_test)\n",
        "\n",
        "# Evaluar el modelo\n",
        "mae = mean_absolute_error(y_test, y_pred)\n",
        "mse = mean_squared_error(y_test, y_pred)\n",
        "r2 = r2_score(y_test, y_pred)\n",
        "\n",
        "# Mostrar resultados\n",
        "print(f\"MAE: {mae:.2f}\")\n",
        "print(f\"MSE: {mse:.2f}\")\n",
        "print(f\"R²: {r2:.4f}\")\n"
      ],
      "metadata": {
        "trusted": true,
        "execution": {
          "iopub.status.busy": "2025-02-14T02:18:41.712211Z",
          "iopub.execute_input": "2025-02-14T02:18:41.712503Z",
          "iopub.status.idle": "2025-02-14T02:18:41.909427Z",
          "shell.execute_reply.started": "2025-02-14T02:18:41.71247Z",
          "shell.execute_reply": "2025-02-14T02:18:41.908344Z"
        },
        "id": "2Itoo8KrSo0u"
      },
      "outputs": [],
      "execution_count": null
    },
    {
      "cell_type": "code",
      "source": [
        "# Calcular errores (residuos)\n",
        "errors = y_test - y_pred\n",
        "\n",
        "# Crear histograma interactivo de los errores\n",
        "fig = px.histogram(errors, nbins=50, title=\"Distribución de Errores (Residuos)\")\n",
        "if kaggle:\n",
        "    fig.show(renderer='iframe_connected')\n",
        "else:\n",
        "    fig.show()"
      ],
      "metadata": {
        "trusted": true,
        "execution": {
          "iopub.status.busy": "2025-02-14T02:18:41.910407Z",
          "iopub.execute_input": "2025-02-14T02:18:41.910833Z",
          "iopub.status.idle": "2025-02-14T02:18:42.099935Z",
          "shell.execute_reply.started": "2025-02-14T02:18:41.910796Z",
          "shell.execute_reply": "2025-02-14T02:18:42.098934Z"
        },
        "id": "8bgczUzeSo0v"
      },
      "outputs": [],
      "execution_count": null
    },
    {
      "cell_type": "code",
      "source": [
        "fig = go.Figure()\n",
        "\n",
        "fig.add_trace(go.Scatter(x=y_test, y=y_pred, mode=\"markers\", name=\"Predicción vs Real\"))\n",
        "fig.add_trace(go.Scatter(x=y_test, y=y_test, mode=\"lines\", name=\"Línea Ideal\", line=dict(color=\"red\")))\n",
        "\n",
        "fig.update_layout(title=\"Comparación: Precio Real vs Predicho\",\n",
        "                  xaxis_title=\"Precio Real\",\n",
        "                  yaxis_title=\"Precio Predicho\")\n",
        "\n",
        "if kaggle:\n",
        "    fig.show(renderer='iframe_connected')\n",
        "else:\n",
        "    fig.show()"
      ],
      "metadata": {
        "trusted": true,
        "execution": {
          "iopub.status.busy": "2025-02-14T02:18:42.101012Z",
          "iopub.execute_input": "2025-02-14T02:18:42.101364Z",
          "iopub.status.idle": "2025-02-14T02:18:42.137557Z",
          "shell.execute_reply.started": "2025-02-14T02:18:42.101338Z",
          "shell.execute_reply": "2025-02-14T02:18:42.136328Z"
        },
        "id": "ALSckxI2So0v"
      },
      "outputs": [],
      "execution_count": null
    }
  ]
}